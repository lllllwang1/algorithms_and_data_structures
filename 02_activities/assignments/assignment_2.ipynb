{
 "cells": [
  {
   "cell_type": "markdown",
   "metadata": {},
   "source": [
    "# Practice Interview\n",
    "\n",
    "## Objective\n",
    "\n",
    "_*The partner assignment aims to provide participants with the opportunity to practice coding in an interview context. You will analyze your partner's Assignment 1. Moreover, code reviews are common practice in a software development team. This assignment should give you a taste of the code review process.*_\n",
    "\n",
    "## Group Size\n",
    "\n",
    "Each group should have 2 people. You will be assigned a partner\n",
    "\n",
    "## Part 1:\n",
    "\n",
    "You and your partner must share each other's Assignment 1 submission."
   ]
  },
  {
   "cell_type": "markdown",
   "metadata": {},
   "source": [
    "\n",
    "## Part 2:\n",
    "\n",
    "Create a Jupyter Notebook, create 6 of the following headings, and complete the following for your partner's assignment 1:\n",
    "\n",
    "-   Paraphrase the problem in your own words.\n"
   ]
  },
  {
   "cell_type": "code",
   "execution_count": null,
   "metadata": {},
   "outputs": [],
   "source": [
    "# Your answer here\n",
    "#Given a binary tree, you need to find all the paths from the root to each leaf node. Each path should be represented as a list of node values from the root to the leaf."
   ]
  },
  {
   "cell_type": "markdown",
   "metadata": {},
   "source": [
    "\n",
    "-   Create 1 new example that demonstrates you understand the problem. Trace/walkthrough 1 example that your partner made and explain it.\n"
   ]
  },
  {
   "cell_type": "code",
   "execution_count": null,
   "metadata": {},
   "outputs": [],
   "source": [
    "# Your answer here\n",
    "#New example root = [1, 2, 3, 4, 5, 6, 7]\n",
    "#New example output[[1, 2, 4], [1, 2, 5], [1, 3, 6], [1, 3, 7]]"
   ]
  },
  {
   "cell_type": "markdown",
   "metadata": {},
   "source": [
    "\n",
    "-   Copy the solution your partner wrote. \n"
   ]
  },
  {
   "cell_type": "code",
   "execution_count": 15,
   "metadata": {},
   "outputs": [],
   "source": [
    "# Your answer here\n",
    "# Definition for a binary tree node.\n",
    "from typing import List, Optional\n",
    "class TreeNode(object):\n",
    "     def __init__(self, val = 0, left = None, right = None):\n",
    "         self.val = val\n",
    "         self.left = left\n",
    "         self.right = right\n",
    "         \n",
    "def bt_path(root: TreeNode) -> List[List[int]]:\n",
    "    def dfs(node, path, paths):\n",
    "        if node is not None:\n",
    "            path.append(node.val)  # add the current node to the path\n",
    "            if node.left is None and node.right is None:\n",
    "                paths.append(list(path))  # if it's a leaf, add the current path to paths\n",
    "            else:\n",
    "                dfs(node.left, path, paths)  # continue to traverse on left and right child\n",
    "                dfs(node.right, path, paths)\n",
    "            path.pop()  # remove the current node and backtrack\n",
    "    \n",
    "    paths = []\n",
    "    dfs(root, [], paths)\n",
    "    return paths"
   ]
  },
  {
   "cell_type": "code",
   "execution_count": 17,
   "metadata": {},
   "outputs": [
    {
     "name": "stdout",
     "output_type": "stream",
     "text": [
      "[[1, 2, 4], [1, 2, 5], [1, 3, 6], [1, 3, 7]]\n"
     ]
    }
   ],
   "source": [
    "root1 = TreeNode(1)\n",
    "root1.left = TreeNode(2)\n",
    "root1.right = TreeNode(3)\n",
    "root1.left.left = TreeNode(4)\n",
    "root1.left.right = TreeNode(5)\n",
    "root1.right.left = TreeNode(6)\n",
    "root1.right.right = TreeNode(7)\n",
    "\n",
    "print(bt_path(root1))"
   ]
  },
  {
   "cell_type": "markdown",
   "metadata": {},
   "source": [
    "\n",
    "-   Explain why their solution works in your own words.\n"
   ]
  },
  {
   "cell_type": "code",
   "execution_count": null,
   "metadata": {},
   "outputs": [],
   "source": [
    "# Your answer here\n",
    "#The given solution uses Depth-First Search (DFS) to explore all paths from the root to leaf nodes:\n",
    "\n",
    "#1. Initialize a list paths to store all root-to-leaf paths.\n",
    "#2.Define a recursive helper function dfs that:\n",
    "#Takes the current node, the current path, and the list of paths.\n",
    "#Appends the current node's value to the path.\n",
    "#If the current node is a leaf, it adds the current path to paths.\n",
    "#Recursively calls itself for the left and right children of the current node.\n",
    "#Backtracks by removing the current node from the path.\n",
    "#3. Call the dfs function with the root node and return paths."
   ]
  },
  {
   "cell_type": "markdown",
   "metadata": {},
   "source": [
    "\n",
    "-   Explain the problem’s time and space complexity in your own words.\n"
   ]
  },
  {
   "cell_type": "code",
   "execution_count": null,
   "metadata": {},
   "outputs": [],
   "source": [
    "#Time Complexity Traversal of the Tree: The algorithm uses Depth-First Search (DFS) to traverse the entire tree. In the worst case, it will visit each node once. If there are n nodes in the tree, this part of the algorithm will take O(n) time.\n",
    "#The space complexity:Recursion Stack: The depth of the recursion stack will be equal to the height of the tree. In the worst case, if the tree is completely unbalanced, the height can be n. Hence, the recursion stack space complexity is O(n)."
   ]
  },
  {
   "cell_type": "markdown",
   "metadata": {},
   "source": [
    "\n",
    "-   Critique your partner's solution, including explanation, and if there is anything that should be adjusted.\n"
   ]
  },
  {
   "cell_type": "code",
   "execution_count": null,
   "metadata": {},
   "outputs": [],
   "source": [
    "# Your answer here\n",
    "#there is a minor issue in the indentation of the dfs function. The else should be removed because both recursive calls should occur regardless of whether the left and right nodes are None."
   ]
  },
  {
   "cell_type": "markdown",
   "metadata": {},
   "source": [
    "\n",
    "## Part 3:\n",
    "\n",
    "Please write a 200 word reflection documenting your process from assignment 1, and your presentation and review experience with your partner at the bottom of the Jupyter Notebook under a new heading \"Reflection.\" Again, export this Notebook as pdf.\n"
   ]
  },
  {
   "cell_type": "markdown",
   "metadata": {},
   "source": [
    "### Reflection"
   ]
  },
  {
   "cell_type": "markdown",
   "metadata": {},
   "source": [
    "Working on this assignment has been a highly educational experience, involving a deep dive into binary tree traversal algorithms and their complexities. Initially, the task of finding all root-to-leaf paths in a binary tree seemed straightforward, but the nuances of implementing a robust and efficient solution required careful consideration.\n",
    "The collaborative process with my partner was instrumental in refining the solution. We started by understanding the problem thoroughly, paraphrasing it to ensure clarity. Creating a new example was crucial as it tested our comprehension and highlighted potential edge cases. Tracing through the example provided by my partner helped identify areas of improvement and reinforced the correctness of the approach.\n",
    "Implementing the solution involved iterative testing and debugging. The DFS approach was chosen for its simplicity and effectiveness in traversing all paths from the root to the leaves. Ensuring that the path construction and backtracking were correctly implemented was critical for maintaining the integrity of the paths.\n",
    "Reviewing the solution's time and space complexity helped in understanding its efficiency and potential bottlenecks. The worst-case scenarios, particularly in unbalanced trees, highlighted areas where optimization could be beneficial.\n",
    "Presenting and reviewing the solution with my partner provided valuable feedback and different perspectives. It was a collaborative effort that enhanced the overall quality of the solution. This assignment underscored the importance of thorough testing, clear communication, and collaborative problem-solving in developing efficient algorithms."
   ]
  },
  {
   "cell_type": "markdown",
   "metadata": {},
   "source": [
    "\n",
    "## Evaluation Criteria\n",
    "\n",
    "We are looking for the similar points as Assignment 1\n",
    "\n",
    "-   Problem is accurately stated\n",
    "\n",
    "-   New example is correct and easily understandable\n",
    "\n",
    "-   Correctness, time, and space complexity of the coding solution\n",
    "\n",
    "-   Clarity in explaining why the solution works, its time and space complexity\n",
    "\n",
    "-   Quality of critique of your partner's assignment, if necessary\n"
   ]
  },
  {
   "cell_type": "markdown",
   "metadata": {},
   "source": [
    "## Submission Information\n",
    "\n",
    "🚨 **Please review our [Assignment Submission Guide](https://github.com/UofT-DSI/onboarding/blob/main/onboarding_documents/submissions.md)** 🚨 for detailed instructions on how to format, branch, and submit your work. Following these guidelines is crucial for your submissions to be evaluated correctly.\n",
    "\n",
    "### Submission Parameters:\n",
    "* Submission Due Date: `HH:MM AM/PM - DD/MM/YYYY`\n",
    "* The branch name for your repo should be: `assignment-2`\n",
    "* What to submit for this assignment:\n",
    "    * This Jupyter Notebook (assignment_2.ipynb) should be populated and should be the only change in your pull request.\n",
    "* What the pull request link should look like for this assignment: `https://github.com/<your_github_username>/algorithms_and_data_structures/pull/<pr_id>`\n",
    "    * Open a private window in your browser. Copy and paste the link to your pull request into the address bar. Make sure you can see your pull request properly. This helps the technical facilitator and learning support staff review your submission easily.\n",
    "\n",
    "Checklist:\n",
    "- [ ] Created a branch with the correct naming convention.\n",
    "- [ ] Ensured that the repository is public.\n",
    "- [ ] Reviewed the PR description guidelines and adhered to them.\n",
    "- [ ] Verify that the link is accessible in a private browser window.\n",
    "\n",
    "If you encounter any difficulties or have questions, please don't hesitate to reach out to our team via our Slack at `#cohort-3-help`. Our Technical Facilitators and Learning Support staff are here to help you navigate any challenges.\n"
   ]
  }
 ],
 "metadata": {
  "kernelspec": {
   "display_name": "dsi_participant",
   "language": "python",
   "name": "python3"
  },
  "language_info": {
   "codemirror_mode": {
    "name": "ipython",
    "version": 3
   },
   "file_extension": ".py",
   "mimetype": "text/x-python",
   "name": "python",
   "nbconvert_exporter": "python",
   "pygments_lexer": "ipython3",
   "version": "3.9.18"
  }
 },
 "nbformat": 4,
 "nbformat_minor": 2
}
